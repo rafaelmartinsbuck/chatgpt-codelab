{
 "cells": [
  {
   "cell_type": "markdown",
   "id": "be4262f1-2a02-41e7-98c6-f17553539b3e",
   "metadata": {},
   "source": [
    "# Listen to your customers: Enhance App Reviews with ChatGPT API\n",
    "\n",
    "#### Rafael Buck\n",
    "\n",
    "As a data science, product, business, or marketing person, you understand the significance of app store reviews. They provide valuable insights and shape the success of your app. In this notebook, we'll guide you through three powerful steps to leverage the ChatGPT API and transform the way you handle app store reviews. Let's get started!\n",
    "\n",
    "## Step 1: Gathering App Store Reviews"
   ]
  },
  {
   "cell_type": "code",
   "execution_count": null,
   "id": "04690a83-ea46-416d-944b-b6477f6ab249",
   "metadata": {},
   "outputs": [],
   "source": [
    "!pip install app_store_scraper"
   ]
  },
  {
   "cell_type": "code",
   "execution_count": null,
   "id": "9c04cf91-bcf9-4bdc-ad2c-8457c7dfe8e1",
   "metadata": {},
   "outputs": [],
   "source": [
    "from app_store_scraper import AppStore\n",
    "import pandas as pd\n",
    "import numpy as np"
   ]
  },
  {
   "cell_type": "code",
   "execution_count": null,
   "id": "cf7f1aa3-bb6e-419e-9ebf-68cf494c05aa",
   "metadata": {},
   "outputs": [],
   "source": [
    "app_name = \"YOUR_APP_NAME\"  # Replace with your app's name\n",
    "app_id = \"YOUR_APP_ID\"  # Replace with your app's ID\n",
    "\n",
    "reviews = AppStore(country='us', \n",
    "                   app_name=app_name, \n",
    "                   app_id=app_id)\n",
    "\n",
    "reviews.review(how_many=1500)"
   ]
  },
  {
   "cell_type": "code",
   "execution_count": null,
   "id": "8aa2d104-1780-4fc1-b946-ae953fbb781f",
   "metadata": {},
   "outputs": [],
   "source": [
    "tmp = pd.DataFrame(np.array(reviews.reviews),columns=['review'])\n",
    "df = tmp.join(pd.DataFrame(tmp.pop('review').tolist()))\n",
    "df.head()"
   ]
  },
  {
   "cell_type": "markdown",
   "id": "0200a61f-849a-423d-983d-b028dd1ce8db",
   "metadata": {},
   "source": [
    "## Step 2: Summarizing Bad Reviews using ChatGPT API\n",
    "\n",
    "Now, let's harness the power of the ChatGPT API to automatically summarize negative reviews. With OpenAI's Python library, we can achieve this easily. Take a look at the code snippet below:"
   ]
  },
  {
   "cell_type": "code",
   "execution_count": null,
   "id": "a54f7974-fd6c-45f0-b2ee-a9a871601333",
   "metadata": {},
   "outputs": [],
   "source": [
    "!pip install openai\n",
    "!pip install python-dotenv"
   ]
  },
  {
   "cell_type": "code",
   "execution_count": null,
   "id": "41948a79-303d-42f4-8da5-b620234fa057",
   "metadata": {},
   "outputs": [],
   "source": [
    "import os\n",
    "from dotenv import load_dotenv # Save your key in a variable in .env file"
   ]
  },
  {
   "cell_type": "code",
   "execution_count": null,
   "id": "126382f0-4733-4107-a2b6-9ab7fde9cb99",
   "metadata": {},
   "outputs": [],
   "source": [
    "load_dotenv() # read local .env file\n",
    "API_TOKEN = os.getenv('OPENAI_API_KEY')"
   ]
  },
  {
   "cell_type": "code",
   "execution_count": null,
   "id": "5a237551-2e29-43b1-a7c6-517182084675",
   "metadata": {},
   "outputs": [],
   "source": [
    "threshold_date = pd.to_datetime('2023-01-01')\n",
    "df['rating'] = df['rating'].astype(int)\n",
    "\n",
    "bad_reviews = df[df['rating']<3] # getting < 3 rating reviews\n",
    "bad_reviews = bad_reviews[bad_reviews['date'] > threshold_date].reset_index() # getting most recent ones\n",
    "\n",
    "summaries = []\n",
    "types = []\n",
    "suggestions = []"
   ]
  },
  {
   "cell_type": "code",
   "execution_count": null,
   "id": "3c8c018c-fb48-4fef-a701-a7cb3703a91a",
   "metadata": {},
   "outputs": [],
   "source": [
    "bad_reviews.head()"
   ]
  },
  {
   "cell_type": "code",
   "execution_count": null,
   "id": "41c1d3dd-e5f7-434a-97e6-14bfedf97ad5",
   "metadata": {},
   "outputs": [],
   "source": [
    "bad_reviews = bad_reviews.head(50).reset_index() # getting just 50 reviews"
   ]
  },
  {
   "cell_type": "code",
   "execution_count": null,
   "id": "537e6b62-5641-4cf0-89f9-9cfff7d9b671",
   "metadata": {},
   "outputs": [],
   "source": [
    "import openai\n",
    "openai.api_key = API_TOKEN"
   ]
  },
  {
   "cell_type": "code",
   "execution_count": null,
   "id": "0ae39123-7d65-415a-a67e-c068192d998d",
   "metadata": {},
   "outputs": [],
   "source": [
    "def get_completion(prompt, model=\"gpt-3.5-turbo\"): # Andrew mentioned that the prompt/ completion paradigm is preferable for this class\n",
    "    messages = [{\"role\": \"user\", \"content\": prompt}]\n",
    "    response = openai.ChatCompletion.create(\n",
    "        model=model,\n",
    "        messages=messages,\n",
    "        temperature=0, # this is the degree of randomness of the model's output\n",
    "    )\n",
    "    return response.choices[0].message[\"content\"]"
   ]
  },
  {
   "cell_type": "code",
   "execution_count": null,
   "id": "c4da06e4-8173-449c-8428-3eeb32f23ce7",
   "metadata": {},
   "outputs": [],
   "source": [
    "import json\n",
    "\n",
    "for index, row in bad_reviews.iterrows():\n",
    "\n",
    "    prompt = f\"\"\"\n",
    "    Your task is to generate a short summary of a product \\ \n",
    "    review from a social sharing content tech app. \n",
    "    \n",
    "    The review is delimited with triple backticks. \\\n",
    "    Format your response as a JSON object with \\\n",
    "    \"Summary\", \"Type\" and \"Feature suggestion\" as the keys.\n",
    "    If the information isn't present, use \"unknown\" \\\n",
    "    as the value.\n",
    "    Make your response as short as possible for \"Summary\" and \"Feature suggestion\" keys.\\\n",
    "    Format the \"Type\" value using at most 2 words depending on \\\n",
    "    the problem exposed in the review.\\\n",
    "    Make sure that all responses are made in English.\n",
    "    \n",
    "    Review text: '''{row['review']}'''\n",
    "    \"\"\"\n",
    "\n",
    "    print(prompt)\n",
    "\n",
    "    response = get_completion(prompt)\n",
    "    print(index, response, \"\\n\")\n",
    "\n",
    "    json_response = json.loads(response)\n",
    "    \n",
    "    summary = json_response['Summary']\n",
    "    summaries.append(summary)\n",
    "\n",
    "    type = json_response['Type']\n",
    "    types.append(type)\n",
    "\n",
    "    suggestion = json_response['Feature suggestion']\n",
    "    suggestions.append(suggestion)\n",
    "\n",
    "print(summaries)"
   ]
  },
  {
   "cell_type": "markdown",
   "id": "986062e9-e755-449a-b529-7c16dfe26ff2",
   "metadata": {},
   "source": [
    "## Step 3: Identifying Insights and A/B Testing\n",
    "\n",
    "Armed with the summarized negative reviews, we can now gain valuable insights into the pain points, usability issues, or feature requests. Analyze the patterns in the summaries to understand the reasons behind negative feedback.\n",
    "\n",
    "To address these concerns effectively, consider implementing A/B testing. By creating two versions of your app—one with improvements based on user feedback—and randomly assigning users to each version, you can measure the impact of changes. Monitor user engagement, satisfaction, and other relevant metrics to gauge the effectiveness of your improvements.\n",
    "\n",
    "Remember, listening to your customers is paramount to your app's success. The ChatGPT API empowers you to extract meaningful insights efficiently, allowing you to make data-driven decisions and enhance your product accordingly."
   ]
  },
  {
   "cell_type": "code",
   "execution_count": null,
   "id": "71427a02-b8cf-4ff9-a216-eb22bec6af0f",
   "metadata": {},
   "outputs": [],
   "source": [
    "!pip install wordcloud"
   ]
  },
  {
   "cell_type": "code",
   "execution_count": null,
   "id": "f10f3287-275c-4759-8623-3ea27f5aef1a",
   "metadata": {},
   "outputs": [],
   "source": [
    "import matplotlib.pyplot as plt\n",
    "from wordcloud import WordCloud\n",
    "\n",
    "# Sample text data\n",
    "text_data = text_data = ' '.join(types)\n",
    "# Create a WordCloud object\n",
    "wordcloud = WordCloud(width=800, height=400, background_color='white').generate(text_data)\n",
    "\n",
    "# Plot the word cloud\n",
    "plt.figure(figsize=(10, 6))\n",
    "plt.imshow(wordcloud, interpolation='bilinear')\n",
    "plt.axis('off')\n",
    "plt.show()"
   ]
  },
  {
   "cell_type": "markdown",
   "id": "4165508d-5832-4568-8dc5-0062bed76e5e",
   "metadata": {},
   "source": [
    "Feel free to copy and paste this code into a Jupyter Notebook, and make sure to replace the placeholder values (**YOUR_APP_ID**, **YOUR_APP_NAME** and **OPENAI_API_KEY**) with the appropriate values for your app and OpenAI API key.\n",
    "\n",
    "Enjoy leveraging the ChatGPT API to revolutionize your app store review process!"
   ]
  },
  {
   "cell_type": "code",
   "execution_count": null,
   "id": "dc6c46e3-0b55-49b4-a474-4d413378de44",
   "metadata": {},
   "outputs": [],
   "source": []
  }
 ],
 "metadata": {
  "kernelspec": {
   "display_name": "Python 3.11",
   "language": "python",
   "name": "myenv"
  },
  "language_info": {
   "codemirror_mode": {
    "name": "ipython",
    "version": 3
   },
   "file_extension": ".py",
   "mimetype": "text/x-python",
   "name": "python",
   "nbconvert_exporter": "python",
   "pygments_lexer": "ipython3",
   "version": "3.11.4"
  }
 },
 "nbformat": 4,
 "nbformat_minor": 5
}
